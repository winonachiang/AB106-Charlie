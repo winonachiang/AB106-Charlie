{
 "cells": [
  {
   "cell_type": "code",
   "execution_count": null,
   "metadata": {
    "collapsed": false
   },
   "outputs": [],
   "source": [
    "import sys\n",
    "sys.path.append(\"C:\\\\Users\\\\USER\")\n",
    "import jieba\n",
    "import jieba.analyse\n",
    "from newspaper import Article\n",
    "from urllib.request import urlopen\n",
    "import time\n",
    "import hashlib\n",
    "import pymongo\n",
    "from pymongo import MongoClient\n",
    "try:\n",
    "    client = MongoClient('127.0.0.1', 27017)\n",
    "    db = client['admin'] #連結到mongoDB裡的database\n",
    "    collection = db['integrated'] #連結到該database的table\n",
    "    print(\"Connects to MongoDB successfully!!\")\n",
    "except:\n",
    "    print('Cannot connect to MongoDB server!!')"
   ]
  },
  {
   "cell_type": "code",
   "execution_count": null,
   "metadata": {
    "collapsed": false
   },
   "outputs": [],
   "source": [
    "def getUnixtime():                                                                                                                                                                                                                       \n",
    "    unixtime = int(time.time())  #標記時間戳(系統時間)\n",
    "    return unixtime\n",
    "\n",
    "def getMd5(url):\n",
    "    hash_object = hashlib.md5(url.encode())\n",
    "    MD5code = hash_object.hexdigest()  #將url轉成MD5並且存取下來\n",
    "    return MD5code\n",
    "\n",
    "def getContent(url):\n",
    "    art = Article(url, language = \"zh\")\n",
    "    try:\n",
    "        art.download() #載入文章\n",
    "        art.parse() \n",
    "    except:\n",
    "        print('cannot download texts!!')\n",
    "        pass\n",
    "    art_text = art.text.replace('\\n', '').replace('\\'', '').replace('\\\"', '').replace(\"\\xa0\", \"\").replace(\"\\u3000\", \"\").replace(\"\\xa06\", \"\").replace(\"\\xa03\", \"\").replace(\"\\xa02\", \"\").replace(\"\\xa01\", \"\").strip()#word_cnt.most_common()[:10]                                                                                                                                                                                                                                                                \n",
    "    return art_text\n",
    "\n",
    "def jiebaAnalysis(content):\n",
    "    jieba.set_dictionary('c:\\\\users\\\\defaultuser0\\\\dict.txt') #結巴斷詞字庫\n",
    "    words = jieba.cut(content, cut_all=False)\n",
    "    words = jieba.analyse.set_stop_words('C:\\\\Users\\\\defaultuser0\\\\stopwords.txt') #中文停用詞字庫\n",
    "    words = jieba.analyse.extract_tags(str(content),10) #利用jieba.analyse來計算文本TF-IDF關鍵詞\n",
    "    return words"
   ]
  },
  {
   "cell_type": "code",
   "execution_count": null,
   "metadata": {
    "collapsed": false
   },
   "outputs": [],
   "source": [
    "#利用無窮迴圈來檢查資料庫\n",
    "#db.collection.find().limit(1).sort({$natural:-1})\n",
    "#collection.find_one({},{'_id':0}).limit(1).sort({\"$natural\":-1})[\"url\"]\n",
    "while True:\n",
    "    url = collection.find_one({},{'_id':0})[\"url\"]\n",
    "    unixtime = getUnixtime()\n",
    "    md5 = getMd5(url)\n",
    "    artContent= getContent(url)\n",
    "    tfidf = jiebaAnalysis(artContent) \n",
    "    if len(url) > 15:\n",
    "        try:\n",
    "            db.integrated.update_one({},{\"$set\":{\"MD5\":md5}}) #insert MD5code into MongoDB\n",
    "            db.integrated.update_one({},{\"$set\":{\"unix_time\":unixtime}}) #insert unixtime into MongoDB\n",
    "            collection.update_one({},{\"$set\":{\"content\":artContent}}) #insert content into MongoDB\n",
    "            collection.update_one({},{\"$set\":{\"TD-IDF\":str(tfidf).replace(\"[\", \"\").replace(\"]\", \"\").replace(\"'\", \"\")}})\n",
    "            print(\"Analysis done! Check your database.\")\n",
    "        except:\n",
    "            print(\"Some error occurs!!\")\n",
    "            pass\n",
    "    else:\n",
    "        print(\"Url not found.\")\n",
    "time.sleep(30)"
   ]
  }
 ],
 "metadata": {
  "anaconda-cloud": {},
  "kernelspec": {
   "display_name": "Python [default]",
   "language": "python",
   "name": "python3"
  },
  "language_info": {
   "codemirror_mode": {
    "name": "ipython",
    "version": 3
   },
   "file_extension": ".py",
   "mimetype": "text/x-python",
   "name": "python",
   "nbconvert_exporter": "python",
   "pygments_lexer": "ipython3",
   "version": "3.5.2"
  }
 },
 "nbformat": 4,
 "nbformat_minor": 1
}
